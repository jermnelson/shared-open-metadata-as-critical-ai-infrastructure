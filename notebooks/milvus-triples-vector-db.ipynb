{
 "cells": [
  {
   "cell_type": "markdown",
   "id": "70bffa08-6a6e-42fe-8d78-f4b5d4095c40",
   "metadata": {},
   "source": [
    "# Milvus Vector Database of Blue Core Triples"
   ]
  },
  {
   "cell_type": "code",
   "execution_count": 1,
   "id": "c700b6d3-ea80-495c-90fb-9d3ac07c9f13",
   "metadata": {},
   "outputs": [
    {
     "name": "stderr",
     "output_type": "stream",
     "text": [
      "/Users/jpnelson/50-59 Presentations, Training, and Education/50.17 DCMI 2025 - Shared Open Metadata as Critical AI Infrastructure/.venv/lib/python3.12/site-packages/tqdm/auto.py:21: TqdmWarning: IProgress not found. Please update jupyter and ipywidgets. See https://ipywidgets.readthedocs.io/en/stable/user_install.html\n",
      "  from .autonotebook import tqdm as notebook_tqdm\n",
      "None of PyTorch, TensorFlow >= 2.0, or Flax have been found. Models won't be available and only tokenizers, configuration and file/data utilities can be used.\n"
     ]
    }
   ],
   "source": [
    "import json\n",
    "import pathlib\n",
    "import random\n",
    "\n",
    "import httpx\n",
    "\n",
    "from pymilvus import model, MilvusClient\n",
    "\n",
    "from bluecore_models.utils.graph import load_jsonld"
   ]
  },
  {
   "cell_type": "code",
   "execution_count": 2,
   "id": "f7f4f967-b838-4565-abed-0c62d4274810",
   "metadata": {},
   "outputs": [],
   "source": [
    "data_path = pathlib.Path(\"../data\")\n",
    "blue_core_url = \"https://dev.bcld.info\""
   ]
  },
  {
   "cell_type": "code",
   "execution_count": 3,
   "id": "62f70549-5943-454b-9ca6-f48b4c64ab79",
   "metadata": {},
   "outputs": [
    {
     "name": "stderr",
     "output_type": "stream",
     "text": [
      "/Users/jpnelson/50-59 Presentations, Training, and Education/50.17 DCMI 2025 - Shared Open Metadata as Critical AI Infrastructure/.venv/lib/python3.12/site-packages/milvus_lite/__init__.py:15: UserWarning: pkg_resources is deprecated as an API. See https://setuptools.pypa.io/en/latest/pkg_resources.html. The pkg_resources package is slated for removal as early as 2025-11-30. Refrain from using this package or pin to Setuptools<81.\n",
      "  from pkg_resources import DistributionNotFound, get_distribution\n"
     ]
    }
   ],
   "source": [
    "milvus_client = MilvusClient(\"dcmi_demo.db\")\n",
    "milvus_client.create_collection(\n",
    "    auto_id=True,\n",
    "    collection_name=\"instances\",\n",
    "    dimension=768,\n",
    ")\n",
    "milvus_client.create_collection(\n",
    "    auto_id=True,\n",
    "    collection_name=\"works\",\n",
    "    dimension=768,\n",
    ")\n",
    "embedding_func = model.DefaultEmbeddingFunction()"
   ]
  },
  {
   "cell_type": "code",
   "execution_count": 4,
   "id": "5c54bd01-90ab-43f2-a2dd-f2d23142aa32",
   "metadata": {},
   "outputs": [],
   "source": [
    "with (data_path / \"random-100-works.jsonl\").open() as fo:\n",
    "    works = []\n",
    "    for row in fo.readlines():\n",
    "        works.append(json.loads(row))"
   ]
  },
  {
   "cell_type": "code",
   "execution_count": 5,
   "id": "20b5a482-964b-463a-938a-80611be84cf0",
   "metadata": {},
   "outputs": [],
   "source": [
    "with (data_path / \"random-instances.jsonl\").open() as fo:\n",
    "    instances = []\n",
    "    for row in fo.readlines():\n",
    "        instances.append(json.loads(row))"
   ]
  },
  {
   "cell_type": "code",
   "execution_count": 6,
   "id": "461ee107-bdcf-4ffd-9137-49d23c236759",
   "metadata": {},
   "outputs": [],
   "source": [
    "def create_embedding(entity, type_of):\n",
    "    graph = load_jsonld(entity['data'])\n",
    "    resource_uri = entity['uri']\n",
    "    skolemized_graph = graph.skolemize(basepath=f\"{resource_uri}#\")\n",
    "    triples = [\n",
    "        line.strip(\".\")\n",
    "        for line in skolemized_graph.serialize(format=\"nt\").splitlines()\n",
    "    ]\n",
    "    triple_vectors = embedding_func.encode_documents(triples)\n",
    "    embeddings_data = []\n",
    "    for i,vector in enumerate(triple_vectors):\n",
    "        embeddings_data.append({\n",
    "            \"vector\": vector,\n",
    "            \"text\": triples[i],\n",
    "            \"version\": entity['version'],\n",
    "            \"uri\": resource_uri\n",
    "        })\n",
    "    result = milvus_client.insert(collection_name=type_of, data=embeddings_data)"
   ]
  },
  {
   "cell_type": "code",
   "execution_count": 7,
   "id": "9f37bab0-9e51-4e13-8746-fe429327afca",
   "metadata": {},
   "outputs": [
    {
     "name": "stderr",
     "output_type": "stream",
     "text": [
      "Failed to convert Literal lexical form to value. Datatype=http://www.w3.org/2001/XMLSchema#dateTime, Converter=<built-in method fromisoformat of type object at 0x1031fb400>\n",
      "Traceback (most recent call last):\n",
      "  File \"/Users/jpnelson/50-59 Presentations, Training, and Education/50.17 DCMI 2025 - Shared Open Metadata as Critical AI Infrastructure/.venv/lib/python3.12/site-packages/rdflib/term.py\", line 2163, in _castLexicalToPython\n",
      "    return conv_func(lexical)  # type: ignore[arg-type]\n",
      "           ^^^^^^^^^^^^^^^^^^\n",
      "ValueError: Invalid isoformat string: '2025-04-10T::'\n",
      "Failed to convert Literal lexical form to value. Datatype=http://www.w3.org/2001/XMLSchema#dateTime, Converter=<built-in method fromisoformat of type object at 0x1031fb400>\n",
      "Traceback (most recent call last):\n",
      "  File \"/Users/jpnelson/50-59 Presentations, Training, and Education/50.17 DCMI 2025 - Shared Open Metadata as Critical AI Infrastructure/.venv/lib/python3.12/site-packages/rdflib/term.py\", line 2163, in _castLexicalToPython\n",
      "    return conv_func(lexical)  # type: ignore[arg-type]\n",
      "           ^^^^^^^^^^^^^^^^^^\n",
      "ValueError: Invalid isoformat string: '2025-03-17T::'\n"
     ]
    }
   ],
   "source": [
    "for work in works:\n",
    "    create_embedding(work, \"works\")"
   ]
  },
  {
   "cell_type": "code",
   "execution_count": 8,
   "id": "b1158612-a9c4-406f-b1fa-0821be51d61c",
   "metadata": {},
   "outputs": [
    {
     "name": "stderr",
     "output_type": "stream",
     "text": [
      "Failed to convert Literal lexical form to value. Datatype=http://www.w3.org/2001/XMLSchema#dateTime, Converter=<built-in method fromisoformat of type object at 0x1031fb400>\n",
      "Traceback (most recent call last):\n",
      "  File \"/Users/jpnelson/50-59 Presentations, Training, and Education/50.17 DCMI 2025 - Shared Open Metadata as Critical AI Infrastructure/.venv/lib/python3.12/site-packages/rdflib/term.py\", line 2163, in _castLexicalToPython\n",
      "    return conv_func(lexical)  # type: ignore[arg-type]\n",
      "           ^^^^^^^^^^^^^^^^^^\n",
      "ValueError: Invalid isoformat string: '2025-04-10T::'\n",
      "Failed to convert Literal lexical form to value. Datatype=http://www.w3.org/2001/XMLSchema#dateTime, Converter=<built-in method fromisoformat of type object at 0x1031fb400>\n",
      "Traceback (most recent call last):\n",
      "  File \"/Users/jpnelson/50-59 Presentations, Training, and Education/50.17 DCMI 2025 - Shared Open Metadata as Critical AI Infrastructure/.venv/lib/python3.12/site-packages/rdflib/term.py\", line 2163, in _castLexicalToPython\n",
      "    return conv_func(lexical)  # type: ignore[arg-type]\n",
      "           ^^^^^^^^^^^^^^^^^^\n",
      "ValueError: Invalid isoformat string: '2025-03-17T::'\n"
     ]
    }
   ],
   "source": [
    "for instance in instances:\n",
    "    create_embedding(instance, \"instances\")"
   ]
  },
  {
   "cell_type": "code",
   "execution_count": null,
   "id": "792e0560-3f45-4c52-960d-cff8dd07070d",
   "metadata": {},
   "outputs": [],
   "source": []
  }
 ],
 "metadata": {
  "kernelspec": {
   "display_name": "Python 3 (ipykernel)",
   "language": "python",
   "name": "python3"
  },
  "language_info": {
   "codemirror_mode": {
    "name": "ipython",
    "version": 3
   },
   "file_extension": ".py",
   "mimetype": "text/x-python",
   "name": "python",
   "nbconvert_exporter": "python",
   "pygments_lexer": "ipython3",
   "version": "3.12.8"
  }
 },
 "nbformat": 4,
 "nbformat_minor": 5
}
