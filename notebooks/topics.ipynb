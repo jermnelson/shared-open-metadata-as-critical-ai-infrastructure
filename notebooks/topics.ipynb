{
 "cells": [
  {
   "cell_type": "code",
   "execution_count": 1,
   "id": "97468605-2295-4a47-a99b-191d3f1e1ed5",
   "metadata": {},
   "outputs": [],
   "source": [
    "import json\n",
    "import pathlib"
   ]
  },
  {
   "cell_type": "code",
   "execution_count": 2,
   "id": "73d6eb81-92f7-4e4f-ae9f-9a2dc2c270ee",
   "metadata": {},
   "outputs": [],
   "source": [
    "dcmi_home = pathlib.Path(\"Users/jpnelson/50-59 Presentations, Training, and Education/50.17 DCMI 2025 - Shared Open Metadata as Critical AI Infrastructure/\")"
   ]
  },
  {
   "cell_type": "code",
   "execution_count": null,
   "id": "682af5a7-5ffd-4da2-b69c-009abbc22539",
   "metadata": {},
   "outputs": [],
   "source": [
    "dcmi_home."
   ]
  }
 ],
 "metadata": {
  "kernelspec": {
   "display_name": "Python 3 (ipykernel)",
   "language": "python",
   "name": "python3"
  },
  "language_info": {
   "codemirror_mode": {
    "name": "ipython",
    "version": 3
   },
   "file_extension": ".py",
   "mimetype": "text/x-python",
   "name": "python",
   "nbconvert_exporter": "python",
   "pygments_lexer": "ipython3",
   "version": "3.12.8"
  }
 },
 "nbformat": 4,
 "nbformat_minor": 5
}
