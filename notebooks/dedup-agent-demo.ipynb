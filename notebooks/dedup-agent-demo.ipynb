{
 "cells": [
  {
   "cell_type": "code",
   "execution_count": 1,
   "id": "781ce4a5-d506-4ec4-bde3-de91f0b83997",
   "metadata": {},
   "outputs": [
    {
     "name": "stderr",
     "output_type": "stream",
     "text": [
      "/Users/jpnelson/50-59 Presentations, Training, and Education/50.17 DCMI 2025 - Shared Open Metadata as Critical AI Infrastructure/.venv/lib/python3.12/site-packages/tqdm/auto.py:21: TqdmWarning: IProgress not found. Please update jupyter and ipywidgets. See https://ipywidgets.readthedocs.io/en/stable/user_install.html\n",
      "  from .autonotebook import tqdm as notebook_tqdm\n",
      "None of PyTorch, TensorFlow >= 2.0, or Flax have been found. Models won't be available and only tokenizers, configuration and file/data utilities can be used.\n"
     ]
    }
   ],
   "source": [
    "import asyncio\n",
    "import json\n",
    "import os\n",
    "import sys\n",
    "\n",
    "import nest_asyncio\n",
    "import rdflib\n",
    "\n",
    "from pymilvus import model, MilvusClient\n",
    "from pydantic_ai.models.openai import OpenAIChatModel\n",
    "from pydantic_ai.providers.openai import OpenAIProvider\n",
    "\n",
    "from bluecore_models.utils.graph import load_jsonld, init_graph, BF\n",
    "\n",
    "sys.path.append(\"/Users/jpnelson/30-39 Sinopia, Blue-Core, FOLIO, and PCC/32.10 Blue Core Agents/src\")\n",
    "\n",
    "from bluecore_ai.agents.duplicate import SupportDependencies, agent as dedup_agent\n",
    "\n",
    "nest_asyncio.apply()"
   ]
  },
  {
   "cell_type": "code",
   "execution_count": 2,
   "id": "1a4adb22-ae96-4029-b6d7-e0b092530373",
   "metadata": {},
   "outputs": [
    {
     "name": "stderr",
     "output_type": "stream",
     "text": [
      "/Users/jpnelson/50-59 Presentations, Training, and Education/50.17 DCMI 2025 - Shared Open Metadata as Critical AI Infrastructure/.venv/lib/python3.12/site-packages/milvus_lite/__init__.py:15: UserWarning: pkg_resources is deprecated as an API. See https://setuptools.pypa.io/en/latest/pkg_resources.html. The pkg_resources package is slated for removal as early as 2025-11-30. Refrain from using this package or pin to Setuptools<81.\n",
      "  from pkg_resources import DistributionNotFound, get_distribution\n"
     ]
    }
   ],
   "source": [
    "milvus_client = MilvusClient(\"dcmi_demo.db\")\n",
    "\n",
    "openai_model = OpenAIChatModel(\n",
    "    'gpt-5',\n",
    "    provider=OpenAIProvider(\n",
    "        api_key=os.environ.get(\"OPENAI_API_KEY\")\n",
    "    )\n",
    ")"
   ]
  },
  {
   "cell_type": "code",
   "execution_count": 3,
   "id": "53863118-1c38-40ef-b9d0-d70b375c4c0e",
   "metadata": {},
   "outputs": [],
   "source": [
    "dedup_agent.model = openai_model"
   ]
  },
  {
   "cell_type": "code",
   "execution_count": 4,
   "id": "dbd64ad3-9dc3-4525-aae9-91dc128ca212",
   "metadata": {},
   "outputs": [],
   "source": [
    "dependencies = SupportDependencies(\n",
    "    milvus_client=milvus_client,\n",
    "    embedding_func=model.DefaultEmbeddingFunction()\n",
    ")"
   ]
  },
  {
   "cell_type": "markdown",
   "id": "fed6665e-83ca-47df-8c0b-d788d060c745",
   "metadata": {},
   "source": [
    "## Known Work Example"
   ]
  },
  {
   "cell_type": "code",
   "execution_count": 5,
   "id": "d378b885-8fa4-4655-a3b2-5dbf1805b963",
   "metadata": {},
   "outputs": [],
   "source": [
    "known_work_result = asyncio.run(\n",
    "    dedup_agent.run(\"https://dev.bcld.info/works/285829ac-236d-4623-bdc4-f9725dbcfc77\",\n",
    "                    deps=dependencies)\n",
    ")"
   ]
  },
  {
   "cell_type": "code",
   "execution_count": 6,
   "id": "3aea723a-dd04-4492-92fb-0ea71508d85e",
   "metadata": {},
   "outputs": [
    {
     "data": {
      "text/plain": [
       "AgentRunResult(output=DeDupResult(score=0.995, best_match='https://dev.bcld.info/works/285829ac-236d-4623-bdc4-f9725dbcfc77'))"
      ]
     },
     "execution_count": 6,
     "metadata": {},
     "output_type": "execute_result"
    }
   ],
   "source": [
    "known_work_result"
   ]
  },
  {
   "cell_type": "markdown",
   "id": "2fdea608-41d3-4736-938f-9012ea56e2b2",
   "metadata": {},
   "source": [
    "## Similar Main Title"
   ]
  },
  {
   "cell_type": "code",
   "execution_count": 10,
   "id": "2e5bb897-84f9-4afd-8183-b476eaef85ef",
   "metadata": {},
   "outputs": [
    {
     "data": {
      "text/plain": [
       "<Graph identifier=N28498e516a70458aac232a0469eb3d7b (<class 'rdflib.graph.Graph'>)>"
      ]
     },
     "execution_count": 10,
     "metadata": {},
     "output_type": "execute_result"
    }
   ],
   "source": [
    "work_graph = init_graph()\n",
    "work_uri = rdflib.URIRef(\"https://dev.bcld.info/works/ed48222e-25ae-45ae-b1a8-bc53c3ab6388\")\n",
    "work_graph.add((work_uri, rdflib.RDF.type, BF.Work))\n",
    "title_bnode = rdflib.BNode()\n",
    "work_graph.add((work_uri, BF.title, title_bnode))\n",
    "work_graph.add((title_bnode, rdflib.RDF.type, BF.Title))\n",
    "work_graph.add((title_bnode, BF.mainTitle, rdflib.Literal(\"Scalar Fields in General Relativity\")))"
   ]
  },
  {
   "cell_type": "code",
   "execution_count": 11,
   "id": "808fdf1e-e8d4-4d63-b7e0-3fbe8be8f152",
   "metadata": {},
   "outputs": [],
   "source": [
    "similiar_main_title_result = asyncio.run(\n",
    "    dedup_agent.run(work_graph.serialize(format='json-ld'),\n",
    "                    deps=dependencies)\n",
    ")"
   ]
  },
  {
   "cell_type": "code",
   "execution_count": 12,
   "id": "6fcee302-4a05-4174-a705-9002735fd68b",
   "metadata": {},
   "outputs": [
    {
     "data": {
      "text/plain": [
       "AgentRunResult(output=DeDupResult(score=0.65, best_match='https://dev.bcld.info/works/9bcfce81-fa73-41ab-8066-c11a591be2f3'))"
      ]
     },
     "execution_count": 12,
     "metadata": {},
     "output_type": "execute_result"
    }
   ],
   "source": [
    "similiar_main_title_result"
   ]
  },
  {
   "cell_type": "code",
   "execution_count": 22,
   "id": "a87515ef-9ffd-4aee-b2c5-a3b67d9fe41d",
   "metadata": {},
   "outputs": [
    {
     "name": "stdout",
     "output_type": "stream",
     "text": [
      "0 ModelRequest\n",
      "\tUserPromptPart, [\n",
      "  {\n",
      "    \"@id\": \"https://dev.bcld.info/works/ed48222e-25ae-45ae-b1a8-bc53c3ab6388\",\n",
      "    \"@type\": [\n",
      "      \"http://id.loc.gov/ontologies/bibframe/Work\"\n",
      "    ],\n",
      "    \"http://id.loc.gov/ontologies/bibframe/title\": [\n",
      "      {\n",
      "        \"@id\": \"_:Neeacdd197520424fb3daaf5d5f150798\"\n",
      "      }\n",
      "    ]\n",
      "  },\n",
      "  {\n",
      "    \"@id\": \"_:Neeacdd197520424fb3daaf5d5f150798\",\n",
      "    \"@type\": [\n",
      "      \"http://id.loc.gov/ontologies/bibframe/Title\"\n",
      "    ],\n",
      "    \"http://id.loc.gov/ontologies/bibframe/mainTitle\": [\n",
      "      {\n",
      "        \"@value\": \"Scalar Fields in General Relativity\"\n",
      "      }\n",
      "    ]\n",
      "  }\n",
      "]\n",
      "1 ModelResponse\n",
      "\tToolCallPart\n",
      "2 ModelRequest\n",
      "\tToolReturnPart, {'https://dev.bcld.info/works/18b1dc21-53ab-4a55-832c-e500d1466967': [{'distance': 0.965573251247406, 'triple': '<https://dev.bcld.info/works/18b1dc21-53ab-4a55-832c-e500d1466967> <http://www.w3.org/1999/02/22-rdf-syntax-ns#type> <http://id.loc.gov/ontologies/bibframe/Work> '}, {'distance': 0.9618780612945557, 'triple': '<https://dev.bcld.info/works/18b1dc21-53ab-4a55-832c-e500d1466967> <http://www.w3.org/1999/02/22-rdf-syntax-ns#type> <http://id.loc.gov/ontologies/bibframe/Monograph> '}, {'distance': 0.9615957140922546, 'triple': '<https://dev.bcld.info/works/18b1dc21-53ab-4a55-832c-e500d1466967> <http://www.w3.org/1999/02/22-rdf-syntax-ns#type> <http://id.loc.gov/ontologies/bibframe/Text> '}, {'distance': 0.9209349155426025, 'triple': '<https://dev.bcld.info/works/18b1dc21-53ab-4a55-832c-e500d1466967> <http://id.loc.gov/ontologies/bibframe/relation> <https://dev.bcld.info/works/18b1dc21-53ab-4a55-832c-e500d1466967#Nfa3266a17f4d4ac1b4e469eb811c98e7> '}], 'https://dev.bcld.info/works/ee74570b-0dba-43fa-96ae-8e3f23467e55': [{'distance': 0.9644374847412109, 'triple': '<https://dev.bcld.info/works/ee74570b-0dba-43fa-96ae-8e3f23467e55> <http://www.w3.org/1999/02/22-rdf-syntax-ns#type> <http://id.loc.gov/ontologies/bibframe/Work> '}, {'distance': 0.9363759160041809, 'triple': '<https://dev.bcld.info/works/ee74570b-0dba-43fa-96ae-8e3f23467e55> <http://id.loc.gov/ontologies/bibframe/title> <https://dev.bcld.info/works/ee74570b-0dba-43fa-96ae-8e3f23467e55#N5802187929c549f1b2b86a7ffb4dc528> '}, {'distance': 0.9352970719337463, 'triple': '<https://dev.bcld.info/works/ee74570b-0dba-43fa-96ae-8e3f23467e55> <http://id.loc.gov/ontologies/bibframe/title> <https://dev.bcld.info/works/ee74570b-0dba-43fa-96ae-8e3f23467e55#N885a64bfc57d4ba8bfa4dfeec9a48545> '}], 'https://dev.bcld.info/works/01f0813b-5534-42bc-858d-8aac23701453': [{'distance': 0.9623862504959106, 'triple': '<https://dev.bcld.info/works/01f0813b-5534-42bc-858d-8aac23701453> <http://www.w3.org/1999/02/22-rdf-syntax-ns#type> <http://id.loc.gov/ontologies/bibframe/Work> '}, {'distance': 0.9594275951385498, 'triple': '<https://dev.bcld.info/works/01f0813b-5534-42bc-858d-8aac23701453> <http://www.w3.org/1999/02/22-rdf-syntax-ns#type> <http://id.loc.gov/ontologies/bibframe/Monograph> '}, {'distance': 0.9577048420906067, 'triple': '<https://dev.bcld.info/works/01f0813b-5534-42bc-858d-8aac23701453> <http://www.w3.org/1999/02/22-rdf-syntax-ns#type> <http://id.loc.gov/ontologies/bibframe/Text> '}, {'distance': 0.9333075881004333, 'triple': '<https://dev.bcld.info/works/01f0813b-5534-42bc-858d-8aac23701453> <http://id.loc.gov/ontologies/bibframe/title> <https://dev.bcld.info/works/01f0813b-5534-42bc-858d-8aac23701453#Nadc3d53fbc80411facb421fd4e5b4615> '}], 'https://dev.bcld.info/works/2ea94c08-1bf6-4bc1-837f-248bc16b69dd': [{'distance': 0.9610764384269714, 'triple': '<https://dev.bcld.info/works/2ea94c08-1bf6-4bc1-837f-248bc16b69dd> <http://www.w3.org/1999/02/22-rdf-syntax-ns#type> <http://id.loc.gov/ontologies/bibframe/Work> '}, {'distance': 0.9193804264068604, 'triple': '<https://dev.bcld.info/works/2ea94c08-1bf6-4bc1-837f-248bc16b69dd> <http://id.loc.gov/ontologies/bibframe/title> <https://dev.bcld.info/works/2ea94c08-1bf6-4bc1-837f-248bc16b69dd#N812b690129344edf95ab48901d8727b2> '}], 'https://dev.bcld.info/works/494e98d1-8f02-414f-9119-5eac7aefb264': [{'distance': 0.9593076705932617, 'triple': '<https://dev.bcld.info/works/494e98d1-8f02-414f-9119-5eac7aefb264> <http://www.w3.org/1999/02/22-rdf-syntax-ns#type> <http://id.loc.gov/ontologies/bibframe/Work> '}, {'distance': 0.9202858209609985, 'triple': '<https://dev.bcld.info/works/494e98d1-8f02-414f-9119-5eac7aefb264> <http://id.loc.gov/ontologies/bibframe/title> <https://dev.bcld.info/works/494e98d1-8f02-414f-9119-5eac7aefb264#Nb7b340cea94a460580012e4971d5f9e4> '}], 'https://dev.bcld.info/works/2704310f-50b8-41c3-bb58-169da383c657': [{'distance': 0.9586889147758484, 'triple': '<https://dev.bcld.info/works/2704310f-50b8-41c3-bb58-169da383c657> <http://www.w3.org/1999/02/22-rdf-syntax-ns#type> <http://id.loc.gov/ontologies/bibframe/Work> '}, {'distance': 0.9192988276481628, 'triple': '<https://dev.bcld.info/works/2704310f-50b8-41c3-bb58-169da383c657> <http://id.loc.gov/ontologies/bibframe/title> <https://dev.bcld.info/works/2704310f-50b8-41c3-bb58-169da383c657#N0d63e2b4d57048f89048030074a0ff01> '}], 'https://dev.bcld.info/works/69bfaa41-0018-46c1-a119-e3e823c4305e': [{'distance': 0.9204966425895691, 'triple': '<https://dev.bcld.info/works/69bfaa41-0018-46c1-a119-e3e823c4305e> <http://id.loc.gov/ontologies/bibframe/title> <https://dev.bcld.info/works/69bfaa41-0018-46c1-a119-e3e823c4305e#N2d8651e58fb848979fe84f6ae7e9f905> '}], 'https://dev.bcld.info/works/10743431-fd83-4c85-8239-0209d202c594': [{'distance': 0.919347882270813, 'triple': '<https://dev.bcld.info/works/10743431-fd83-4c85-8239-0209d202c594> <http://id.loc.gov/ontologies/bibframe/title> <https://dev.bcld.info/works/10743431-fd83-4c85-8239-0209d202c594#N908c0f74d2694db7ba633c2ac0b56d36> '}], 'https://dev.bcld.info/works/58972740-ffd1-4eb1-946b-56d388253818': [{'distance': 0.9192080497741699, 'triple': '<https://dev.bcld.info/works/58972740-ffd1-4eb1-946b-56d388253818> <http://id.loc.gov/ontologies/bibframe/genreForm> <https://dev.bcld.info/works/58972740-ffd1-4eb1-946b-56d388253818#N07a0d9c35dfc4fc9a76faa2594b0863f> '}], 'https://dev.bcld.info/works/9bcfce81-fa73-41ab-8066-c11a591be2f3': [{'distance': 0.9291533827781677, 'triple': '<https://dev.bcld.info/works/9bcfce81-fa73-41ab-8066-c11a591be2f3#N77c64d7e671249a2bd18bcd7a66681f9> <http://id.loc.gov/ontologies/bibframe/mainTitle> \"Scalar Fields in Numerical General Relativity\" '}, {'distance': 0.8177123665809631, 'triple': '<https://dev.bcld.info/works/9bcfce81-fa73-41ab-8066-c11a591be2f3> <http://id.loc.gov/ontologies/bflc/aap> \"Clough, Katy. Scalar Fields in Numerical General Relativity\" '}, {'distance': 0.7226633429527283, 'triple': '<https://dev.bcld.info/works/9bcfce81-fa73-41ab-8066-c11a591be2f3#N04fc75763e15421ebb0483ed8cef9c90> <http://id.loc.gov/ontologies/bibframe/mainTitle> \"Scalar Fields in Numerical General Relativity : Inhomogeneous Inflation and Asymmetric Bubble Collapse\" '}, {'distance': 0.7091337442398071, 'triple': '<https://dev.bcld.info/works/9bcfce81-fa73-41ab-8066-c11a591be2f3#N26f95c8db08b421ca0c214d0f2d3c2ca> <http://id.loc.gov/ontologies/bibframe/mainTitle> \"Scalar Fields in Numerical General Relativity : Inhomogeneous Inflation and Asymmetric Bubble Collapse\" '}, {'distance': 0.708653450012207, 'triple': '<https://dev.bcld.info/works/9bcfce81-fa73-41ab-8066-c11a591be2f3#N30f760217b8e417cb68784a56bbf347a> <http://id.loc.gov/ontologies/bibframe/mainTitle> \"Scalar Fields in Numerical General Relativity : Inhomogeneous Inflation and Asymmetric Bubble Collapse\" '}, {'distance': 0.705502986907959, 'triple': '<https://dev.bcld.info/works/9bcfce81-fa73-41ab-8066-c11a591be2f3#Nf852c3dd0abd484b915c4b7d411898a3> <http://id.loc.gov/ontologies/bibframe/mainTitle> \"Scalar Fields in Numerical General Relativity : Inhomogeneous Inflation and Asymmetric Bubble Collapse\" '}, {'distance': 0.7009201645851135, 'triple': '<https://dev.bcld.info/works/9bcfce81-fa73-41ab-8066-c11a591be2f3#N9deefcec5b224ff780eacb1705157b9c> <http://id.loc.gov/ontologies/bflc/aap> \"Scalar Fields in Numerical General Relativity : Inhomogeneous Inflation and Asymmetric Bubble Collapse\" '}, {'distance': 0.7005118131637573, 'triple': '<https://dev.bcld.info/works/9bcfce81-fa73-41ab-8066-c11a591be2f3#N1870900a0f904f4599f5e945ec694021> <http://id.loc.gov/ontologies/bflc/aap> \"Scalar Fields in Numerical General Relativity : Inhomogeneous Inflation and Asymmetric Bubble Collapse\" '}, {'distance': 0.6915062665939331, 'triple': '<https://dev.bcld.info/works/9bcfce81-fa73-41ab-8066-c11a591be2f3#N64a4b3fa68a64892906d70a55232f6bf> <http://id.loc.gov/ontologies/bibframe/mainTitle> \"Scalar Fields in Numerical General Relativity : Inhomogeneous Inflation and Asymmetric Bubble Collapse\" '}, {'distance': 0.6857767701148987, 'triple': '<https://dev.bcld.info/works/9bcfce81-fa73-41ab-8066-c11a591be2f3#Nf5f0311b292a41318d0cf7bca3c01ca9> <http://id.loc.gov/ontologies/bibframe/mainTitle> \"Scalar Fields in Numerical General Relativity : Inhomogeneous Inflation and Asymmetric Bubble Collapse\" '}], 'https://dev.bcld.info/works/be1845e5-3039-4241-a329-ab00e0514168': [{'distance': 0.9644443392753601, 'triple': '<https://dev.bcld.info/works/be1845e5-3039-4241-a329-ab00e0514168#N550e7212b8964c4fa582235df3d84c03> <http://www.w3.org/1999/02/22-rdf-syntax-ns#type> <http://id.loc.gov/ontologies/bibframe/Title> '}, {'distance': 0.9571529626846313, 'triple': '<https://dev.bcld.info/works/be1845e5-3039-4241-a329-ab00e0514168#Nd4fe4236bc0442a0a2051200c3e2314c> <http://www.w3.org/1999/02/22-rdf-syntax-ns#type> <http://id.loc.gov/ontologies/bibframe/Topic> '}, {'distance': 0.9567980766296387, 'triple': '<https://dev.bcld.info/works/be1845e5-3039-4241-a329-ab00e0514168#Nfbb07dfe0f7543f2919298b9c19f3614> <http://www.w3.org/1999/02/22-rdf-syntax-ns#type> <http://id.loc.gov/ontologies/bibframe/Relation> '}, {'distance': 0.9545827507972717, 'triple': '<https://dev.bcld.info/works/be1845e5-3039-4241-a329-ab00e0514168#N155c2c07297d4ba0a3cccce7fc10e117> <http://www.w3.org/1999/02/22-rdf-syntax-ns#type> <http://id.loc.gov/ontologies/bibframe/Topic> '}], 'https://dev.bcld.info/works/2178ea73-623e-47b1-8de7-fba47bc51065': [{'distance': 0.9641028046607971, 'triple': '<https://dev.bcld.info/works/2178ea73-623e-47b1-8de7-fba47bc51065#Nb11ff63363224cc581b309fb01a1e083> <http://www.w3.org/1999/02/22-rdf-syntax-ns#type> <http://id.loc.gov/ontologies/bibframe/Title> '}], 'https://dev.bcld.info/works/fb295855-e421-499b-ada3-7eff91cf7719': [{'distance': 0.9554697275161743, 'triple': '<https://dev.bcld.info/works/fb295855-e421-499b-ada3-7eff91cf7719#N18251b580dd649ddb3a2ebb45735887b> <http://www.w3.org/1999/02/22-rdf-syntax-ns#type> <http://id.loc.gov/ontologies/bibframe/Title> '}, {'distance': 0.9511898756027222, 'triple': '<https://dev.bcld.info/works/fb295855-e421-499b-ada3-7eff91cf7719#N7772861304f2462f9ad8ad9d758934ff> <http://www.w3.org/1999/02/22-rdf-syntax-ns#type> <http://id.loc.gov/ontologies/bibframe/Summary> '}], 'https://dev.bcld.info/works/285829ac-236d-4623-bdc4-f9725dbcfc77': [{'distance': 0.9553847312927246, 'triple': '<https://dev.bcld.info/works/285829ac-236d-4623-bdc4-f9725dbcfc77#Ne3c35ada47b4429fba23cc918617b274> <http://www.w3.org/1999/02/22-rdf-syntax-ns#type> <http://id.loc.gov/ontologies/bibframe/Summary> '}], 'https://dev.bcld.info/works/19bf1eb1-f835-4493-af61-a4d2138047d7': [{'distance': 0.9541372060775757, 'triple': '<https://dev.bcld.info/works/19bf1eb1-f835-4493-af61-a4d2138047d7#Na2874cfad4774dccadfabdda337af36d> <http://www.w3.org/1999/02/22-rdf-syntax-ns#type> <http://id.loc.gov/ontologies/bibframe/Title> '}], 'https://dev.bcld.info/works/891a2507-cb96-4b74-8e87-6321846436ed': [{'distance': 0.9510244727134705, 'triple': '<https://dev.bcld.info/works/891a2507-cb96-4b74-8e87-6321846436ed#N9cd60cbbcb694299a442cb062983084a> <http://www.w3.org/1999/02/22-rdf-syntax-ns#type> <http://id.loc.gov/ontologies/bibframe/Capture> '}]}\n",
      "3 ModelResponse\n",
      "\tToolCallPart\n",
      "4 ModelRequest\n",
      "\tToolReturnPart, Final result processed.\n"
     ]
    }
   ],
   "source": [
    "for i,message in enumerate(similiar_main_title_result.all_messages()):\n",
    "    print(i, type(message).__name__)\n",
    "    for part in message.parts:\n",
    "        match type(message).__name__:\n",
    "            case \"ModelRequest\":\n",
    "                print(f\"\\t{type(part).__name__}, {part.content}\")\n",
    "\n",
    "            case _:\n",
    "                print(f\"\\t{type(part).__name__}\")"
   ]
  },
  {
   "cell_type": "markdown",
   "id": "c6a32fa3-3fca-4bbd-ac25-2e07027ee26d",
   "metadata": {},
   "source": [
    "## Dissimilar Instance Title"
   ]
  },
  {
   "cell_type": "code",
   "execution_count": 23,
   "id": "c480be39-ae26-427b-83e7-b74994ea70a7",
   "metadata": {},
   "outputs": [
    {
     "data": {
      "text/plain": [
       "<Graph identifier=Nacc59e0f9a244c11b2a8caf8a88163ee (<class 'rdflib.graph.Graph'>)>"
      ]
     },
     "execution_count": 23,
     "metadata": {},
     "output_type": "execute_result"
    }
   ],
   "source": [
    "instance_graph = init_graph()\n",
    "instance_uri = rdflib.URIRef(\"https://dev.bcld.info/instances/93ddae0d-3ae5-4e16-bb94-b263e0493ce3\")\n",
    "instance_graph.add((instance_uri, rdflib.RDF.type, BF.Instance))\n",
    "title_bnode = rdflib.BNode()\n",
    "instance_graph.add((title_bnode, rdflib.RDF.type, BF.Title))\n",
    "instance_graph.add((instance_uri, BF.title, title_bnode))\n",
    "instance_graph.add((title_bnode, BF.mainTitle, rdflib.Literal(\"DCMI 2025 Presentation\")))"
   ]
  },
  {
   "cell_type": "code",
   "execution_count": 24,
   "id": "13545f54-0ee5-445a-8ed3-658823f7d710",
   "metadata": {},
   "outputs": [],
   "source": [
    "instance_main_title_result = asyncio.run(\n",
    "    dedup_agent.run(instance_graph.serialize(format='json-ld'),\n",
    "                    deps=dependencies)\n",
    ")"
   ]
  },
  {
   "cell_type": "code",
   "execution_count": 25,
   "id": "57e87cf9-a71f-44f8-b632-8500e09de689",
   "metadata": {},
   "outputs": [
    {
     "data": {
      "text/plain": [
       "AgentRunResult(output=DeDupResult(score=0.4792, best_match='https://dev.bcld.info/instances/004e1f19-5920-45f2-ae53-d115499e330f'))"
      ]
     },
     "execution_count": 25,
     "metadata": {},
     "output_type": "execute_result"
    }
   ],
   "source": [
    "instance_main_title_result"
   ]
  },
  {
   "cell_type": "markdown",
   "id": "87100aab-b1c1-4a21-abbd-c7c0bad864a9",
   "metadata": {},
   "source": [
    "Resolving https://dev.bcld.info/instances/004e1f19-5920-45f2-ae53-d115499e330f and extracting the mainTitle is \"Volume 2\""
   ]
  },
  {
   "cell_type": "code",
   "execution_count": null,
   "id": "4c8c9db1-3d22-451c-8e0f-ce15473e3619",
   "metadata": {},
   "outputs": [],
   "source": []
  }
 ],
 "metadata": {
  "kernelspec": {
   "display_name": "Python 3 (ipykernel)",
   "language": "python",
   "name": "python3"
  },
  "language_info": {
   "codemirror_mode": {
    "name": "ipython",
    "version": 3
   },
   "file_extension": ".py",
   "mimetype": "text/x-python",
   "name": "python",
   "nbconvert_exporter": "python",
   "pygments_lexer": "ipython3",
   "version": "3.12.8"
  }
 },
 "nbformat": 4,
 "nbformat_minor": 5
}
